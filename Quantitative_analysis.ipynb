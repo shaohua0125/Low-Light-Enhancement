{
 "cells": [
  {
   "cell_type": "code",
   "execution_count": 1,
   "outputs": [],
   "source": [
    "import os\n",
    "import numpy as np\n",
    "from PIL import Image\n",
    "from skimage.metrics import peak_signal_noise_ratio as psnr\n",
    "from skimage.metrics import structural_similarity as ssim"
   ],
   "metadata": {
    "collapsed": false,
    "pycharm": {
     "name": "#%%\n"
    }
   }
  },
  {
   "cell_type": "code",
   "execution_count": 9,
   "outputs": [
    {
     "name": "stdout",
     "output_type": "stream",
     "text": [
      "0.6923883454896775\n"
     ]
    }
   ],
   "source": [
    "img1 = np.array(Image.open('./0614_V2.jpg'))\n",
    "img2 = np.array(Image.open('./pic/papershow_Y/0614.jpg'))\n",
    "print(ssim(img1, img2, channel_axis=2))"
   ],
   "metadata": {
    "collapsed": false,
    "pycharm": {
     "name": "#%%\n"
    }
   }
  },
  {
   "cell_type": "code",
   "execution_count": 14,
   "outputs": [],
   "source": [
    "def calPNSR(dir):\n",
    "    total = 0\n",
    "    imglist1 = []\n",
    "    imglist2 = []\n",
    "    file_list1 = os.listdir(dir)\n",
    "    file_list2 = os.listdir('./pic/papertest_Y')\n",
    "    for file in file_list1:\n",
    "        fileName = os.path.join(dir, file)\n",
    "        img1 = np.array(Image.open(fileName))\n",
    "        imglist1.append(img1)\n",
    "    for file in file_list2:\n",
    "        fileName = os.path.join('./pic/papertest_Y', file)\n",
    "        img2 = np.array(Image.open(fileName))\n",
    "        imglist2.append(img2)\n",
    "    for i in range(len(file_list1)):\n",
    "        value = psnr(imglist1[i], imglist2[i])\n",
    "        total += value\n",
    "    return total / len(file_list1)"
   ],
   "metadata": {
    "collapsed": false,
    "pycharm": {
     "name": "#%%\n"
    }
   }
  },
  {
   "cell_type": "code",
   "execution_count": 23,
   "outputs": [
    {
     "data": {
      "text/plain": "12.86090678346117"
     },
     "execution_count": 23,
     "metadata": {},
     "output_type": "execute_result"
    }
   ],
   "source": [
    "calPNSR('./pic/retinexNET')"
   ],
   "metadata": {
    "collapsed": false,
    "pycharm": {
     "name": "#%%\n"
    }
   }
  },
  {
   "cell_type": "code",
   "execution_count": 32,
   "outputs": [],
   "source": [
    "def calSSIM(dir):\n",
    "    total = 0\n",
    "    imglist1 = []\n",
    "    imglist2 = []\n",
    "    file_list1 = os.listdir(dir)\n",
    "    file_list2 = os.listdir('./pic/papertest_Y')\n",
    "    for file in file_list1:\n",
    "        fileName = os.path.join(dir, file)\n",
    "        img1 = np.array(Image.open(fileName))\n",
    "        imglist1.append(img1)\n",
    "    for file in file_list2:\n",
    "        fileName = os.path.join('./pic/papertest_Y', file)\n",
    "        img2 = np.array(Image.open(fileName))\n",
    "        imglist2.append(img2)\n",
    "    for i in range(len(file_list1)):\n",
    "        value = ssim(imglist1[i], imglist2[i], channel_axis=2)\n",
    "        total += value\n",
    "    return total / len(file_list1)"
   ],
   "metadata": {
    "collapsed": false,
    "pycharm": {
     "name": "#%%\n"
    }
   }
  },
  {
   "cell_type": "code",
   "execution_count": 41,
   "outputs": [
    {
     "data": {
      "text/plain": "0.7333649451783446"
     },
     "execution_count": 41,
     "metadata": {},
     "output_type": "execute_result"
    }
   ],
   "source": [
    "calSSIM('./pic/zerodce')"
   ],
   "metadata": {
    "collapsed": false,
    "pycharm": {
     "name": "#%%\n"
    }
   }
  },
  {
   "cell_type": "code",
   "execution_count": 15,
   "outputs": [
    {
     "name": "stdout",
     "output_type": "stream",
     "text": [
      "18.296293765122805\n"
     ]
    }
   ],
   "source": [
    "img1 = np.array(Image.open('./0252_V2.jpg'))\n",
    "img2 = np.array(Image.open('./pic/papershow_Y/0252.jpg'))\n",
    "print(psnr(img1, img2))"
   ],
   "metadata": {
    "collapsed": false,
    "pycharm": {
     "name": "#%%\n"
    }
   }
  }
 ],
 "metadata": {
  "kernelspec": {
   "display_name": "Python 3",
   "language": "python",
   "name": "python3"
  },
  "language_info": {
   "codemirror_mode": {
    "name": "ipython",
    "version": 2
   },
   "file_extension": ".py",
   "mimetype": "text/x-python",
   "name": "python",
   "nbconvert_exporter": "python",
   "pygments_lexer": "ipython2",
   "version": "2.7.6"
  }
 },
 "nbformat": 4,
 "nbformat_minor": 0
}